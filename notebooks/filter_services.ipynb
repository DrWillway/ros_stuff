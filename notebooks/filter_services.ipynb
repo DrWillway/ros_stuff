{
 "cells": [
  {
   "cell_type": "code",
   "execution_count": 14,
   "metadata": {},
   "outputs": [
    {
     "name": "stdout",
     "output_type": "stream",
     "text": [
      "Service name: /some_name/yeu\n",
      "Service name: /some_name/wow\n",
      "Service name: /some_name/aio\n"
     ]
    }
   ],
   "source": [
    "# Example list of tuples (service name, service type)\n",
    "services = [\n",
    "    ('/some_name/yeu'),\n",
    "    ('/some_name/wow'),\n",
    "    ('/rosout'),\n",
    "    ('/other/ee'),\n",
    "    ('/other/some_name'),\n",
    "    ('/some_name/aio')\n",
    "]\n",
    "\n",
    "# The prefix we want to filter by\n",
    "service_prefix = '/some_name/'\n",
    "\n",
    "# Filter to get only services whose name starts with the prefix\n",
    "filtered_services = list(filter(lambda x: x.startswith(service_prefix), services))\n",
    "\n",
    "# Print the result\n",
    "for service in filtered_services:\n",
    "    print(f\"Service name: {service}\")\n"
   ]
  }
 ],
 "metadata": {
  "kernelspec": {
   "display_name": "Python 3",
   "language": "python",
   "name": "python3"
  },
  "language_info": {
   "codemirror_mode": {
    "name": "ipython",
    "version": 3
   },
   "file_extension": ".py",
   "mimetype": "text/x-python",
   "name": "python",
   "nbconvert_exporter": "python",
   "pygments_lexer": "ipython3",
   "version": "3.10.12"
  }
 },
 "nbformat": 4,
 "nbformat_minor": 2
}
